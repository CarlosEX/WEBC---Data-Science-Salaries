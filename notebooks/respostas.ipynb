{
 "cells": [
  {
   "cell_type": "code",
   "execution_count": 35,
   "metadata": {},
   "outputs": [],
   "source": [
    "import pandas as pd\n",
    "import matplotlib.pyplot as plt\n",
    "import seaborn as sns"
   ]
  },
  {
   "cell_type": "code",
   "execution_count": 8,
   "metadata": {},
   "outputs": [
    {
     "name": "stderr",
     "output_type": "stream",
     "text": [
      "<>:1: SyntaxWarning: invalid escape sequence '\\d'\n",
      "<>:1: SyntaxWarning: invalid escape sequence '\\d'\n",
      "C:\\Users\\cison\\AppData\\Local\\Temp\\ipykernel_13832\\2736073903.py:1: SyntaxWarning: invalid escape sequence '\\d'\n",
      "  path = \"..\\data\\ds_salaries.xlsx\"\n"
     ]
    }
   ],
   "source": [
    "path = \"..\\data\\ds_salaries.xlsx\"\n",
    "df = pd.read_excel(path)"
   ]
  },
  {
   "cell_type": "code",
   "execution_count": 10,
   "metadata": {},
   "outputs": [
    {
     "name": "stdout",
     "output_type": "stream",
     "text": [
      "<class 'pandas.core.frame.DataFrame'>\n",
      "RangeIndex: 607 entries, 0 to 606\n",
      "Data columns (total 12 columns):\n",
      " #   Column              Non-Null Count  Dtype \n",
      "---  ------              --------------  ----- \n",
      " 0   id                  607 non-null    int64 \n",
      " 1   work_year           607 non-null    int64 \n",
      " 2   experience_level    607 non-null    object\n",
      " 3   employment_type     607 non-null    object\n",
      " 4   job_title           607 non-null    object\n",
      " 5   salary              607 non-null    int64 \n",
      " 6   salary_currency     607 non-null    object\n",
      " 7   salary_in_usd       607 non-null    int64 \n",
      " 8   employee_residence  607 non-null    object\n",
      " 9   remote_ratio        607 non-null    int64 \n",
      " 10  company_location    607 non-null    object\n",
      " 11  company_size        607 non-null    object\n",
      "dtypes: int64(5), object(7)\n",
      "memory usage: 57.0+ KB\n"
     ]
    }
   ],
   "source": [
    "df.info()"
   ]
  },
  {
   "cell_type": "markdown",
   "metadata": {},
   "source": [
    "## ELT"
   ]
  },
  {
   "cell_type": "code",
   "execution_count": 15,
   "metadata": {},
   "outputs": [],
   "source": [
    "def transform_dataframe(df) -> pd.DataFrame:\n",
    "    df = df.drop('id',axis=1)\n",
    "\n",
    "    df.rename(columns={'work_year': 'Work year', 'experience_level': 'Experience level', 'employment_type': 'Employment type', 'job_title': 'Job title', 'salary_in_usd': 'Salary usd', 'employee_residence': 'Employee residence', 'remote_ratio': 'Remote ratio', 'company_location': 'Company location', 'company_size': 'Company size'}, inplace=True)\n",
    "\n",
    "    df.replace({'Employment type': {\n",
    "        'FT': 'Full Time',\n",
    "        'PT': 'Part Time',\n",
    "        'CT': 'Contract',\n",
    "        'FL': 'Freelance'\n",
    "    }}, inplace=True)\n",
    "\n",
    "    df.replace({'Company size': {\n",
    "        'L': 'Large',\n",
    "        'S': 'Small',\n",
    "        'M': 'Medium'\n",
    "    }}, inplace=True)\n",
    "\n",
    "    df.replace({'Experience level': {\n",
    "        'MI': 'Mid-level',\n",
    "        'SE': 'Senior',\n",
    "        'EN': 'Entry Level',\n",
    "        'EX': 'Experienced'\n",
    "    }}, inplace=True)\n",
    "    \n",
    "    return df\n",
    "\n",
    "df = transform_dataframe(df)"
   ]
  },
  {
   "cell_type": "markdown",
   "metadata": {},
   "source": [
    "# FUNÇÕES AUXILIARES"
   ]
  },
  {
   "cell_type": "code",
   "execution_count": 12,
   "metadata": {},
   "outputs": [],
   "source": [
    "\n",
    "def formatar_numero(valor):\n",
    "        if valor >= 1000000:\n",
    "            return '{:.1f} MM'.format(valor / 1000000)\n",
    "        elif valor >= 1000:\n",
    "            return '{:.1f} Mil'.format(valor / 1000)\n",
    "        else:\n",
    "            return '{:,.0f}'.format(valor)\n"
   ]
  },
  {
   "cell_type": "markdown",
   "metadata": {},
   "source": []
  },
  {
   "cell_type": "markdown",
   "metadata": {},
   "source": [
    "# Respostas Perguntas da Análises"
   ]
  },
  {
   "cell_type": "code",
   "execution_count": 16,
   "metadata": {},
   "outputs": [
    {
     "name": "stdout",
     "output_type": "stream",
     "text": [
      "<class 'pandas.core.frame.DataFrame'>\n",
      "RangeIndex: 607 entries, 0 to 606\n",
      "Data columns (total 11 columns):\n",
      " #   Column              Non-Null Count  Dtype \n",
      "---  ------              --------------  ----- \n",
      " 0   Work year           607 non-null    int64 \n",
      " 1   Experience level    607 non-null    object\n",
      " 2   Employment type     607 non-null    object\n",
      " 3   Job title           607 non-null    object\n",
      " 4   salary              607 non-null    int64 \n",
      " 5   salary_currency     607 non-null    object\n",
      " 6   Salary usd          607 non-null    int64 \n",
      " 7   Employee residence  607 non-null    object\n",
      " 8   Remote ratio        607 non-null    int64 \n",
      " 9   Company location    607 non-null    object\n",
      " 10  Company size        607 non-null    object\n",
      "dtypes: int64(4), object(7)\n",
      "memory usage: 52.3+ KB\n"
     ]
    }
   ],
   "source": [
    "df.info()"
   ]
  },
  {
   "cell_type": "markdown",
   "metadata": {},
   "source": [
    "## Repostas para:\n",
    "(\"1 - Qual a média geral dos salários do ano selecionado?\", \"SIM\")\n",
    "\n",
    "('2 - Qual a mediana geral dos salários do ano selecionado?', \"SIM\")\n",
    "\n",
    "('3 - Qual o valor do desvio padrão geral dos salários do ano selecionado?', \"SIM\")\n",
    "\n",
    "(\"4 - Qual o maior salário do ano selecionado?\",\"SIM\")\n",
    "\n",
    "(\"5 - Qual o menor salário do ano selecionado?\",\"SIM\")"
   ]
  },
  {
   "cell_type": "markdown",
   "metadata": {},
   "source": []
  },
  {
   "cell_type": "code",
   "execution_count": 25,
   "metadata": {},
   "outputs": [
    {
     "name": "stdout",
     "output_type": "stream",
     "text": [
      "A média salarial é de: 112.3 Mil\n",
      "A mediana dos salarios é: 112.3 Mil\n",
      "O maior salário é: 600.0 Mil\n",
      "O menor salário é: 2.9 Mil\n",
      "O desvio padrão dos salários é: 71.0 Mil\n",
      "O 1º Quartil é: 62.7 Mil\n",
      "O 3º Quartil é: 150.0 Mil\n",
      "A amplitude dos salários é: 597.1 Mil\n",
      "O IQR é: 87.3 Mil\n"
     ]
    }
   ],
   "source": [
    "# respostas\n",
    "media_salarial = formatar_numero(df['Salary usd'].mean())\n",
    "mediana_salarial = formatar_numero(df['Salary usd'].median())\n",
    "maior_salario = formatar_numero(df['Salary usd'].max())\n",
    "menor_salario = formatar_numero(df['Salary usd'].min())\n",
    "desvio_padrao = formatar_numero(df['Salary usd'].std())\n",
    "quantile_0_25 = formatar_numero(df['Salary usd'].quantile(0.25))\n",
    "quantile_0_75 = formatar_numero(df['Salary usd'].quantile(0.75))\n",
    "amplitude = formatar_numero(df['Salary usd'].max() - df['Salary usd'].min())\n",
    "\n",
    "IQR = formatar_numero(df['Salary usd'].quantile(0.75) - df['Salary usd'].quantile(0.25))\n",
    "\n",
    "print(f\"A média salarial é de: {media_salarial}\")\n",
    "print(f\"A mediana dos salarios é: {media_salarial}\")\n",
    "print(f\"O maior salário é: {maior_salario}\")\n",
    "print(f\"O menor salário é: {menor_salario}\")\n",
    "print(f\"O desvio padrão dos salários é: {desvio_padrao}\")\n",
    "print(f\"O 1º Quartil é: {quantile_0_25}\")\n",
    "print(f\"O 3º Quartil é: {quantile_0_75}\")\n",
    "print(f\"A amplitude dos salários é: {amplitude}\")\n",
    "print(f\"O IQR é: {IQR}\")"
   ]
  },
  {
   "cell_type": "markdown",
   "metadata": {},
   "source": [
    "# 6 - Resposta: Qual é a distribuição dos níveis de experiência dos funcionários?"
   ]
  },
  {
   "cell_type": "code",
   "execution_count": 43,
   "metadata": {},
   "outputs": [
    {
     "data": {
      "text/html": [
       "<div>\n",
       "<style scoped>\n",
       "    .dataframe tbody tr th:only-of-type {\n",
       "        vertical-align: middle;\n",
       "    }\n",
       "\n",
       "    .dataframe tbody tr th {\n",
       "        vertical-align: top;\n",
       "    }\n",
       "\n",
       "    .dataframe thead th {\n",
       "        text-align: right;\n",
       "    }\n",
       "</style>\n",
       "<table border=\"1\" class=\"dataframe\">\n",
       "  <thead>\n",
       "    <tr style=\"text-align: right;\">\n",
       "      <th></th>\n",
       "      <th>Experience level</th>\n",
       "      <th>Contagem</th>\n",
       "    </tr>\n",
       "  </thead>\n",
       "  <tbody>\n",
       "    <tr>\n",
       "      <th>0</th>\n",
       "      <td>Senior</td>\n",
       "      <td>280</td>\n",
       "    </tr>\n",
       "    <tr>\n",
       "      <th>1</th>\n",
       "      <td>Mid-level</td>\n",
       "      <td>213</td>\n",
       "    </tr>\n",
       "    <tr>\n",
       "      <th>2</th>\n",
       "      <td>Entry Level</td>\n",
       "      <td>88</td>\n",
       "    </tr>\n",
       "    <tr>\n",
       "      <th>3</th>\n",
       "      <td>Experienced</td>\n",
       "      <td>26</td>\n",
       "    </tr>\n",
       "  </tbody>\n",
       "</table>\n",
       "</div>"
      ],
      "text/plain": [
       "  Experience level  Contagem\n",
       "0           Senior       280\n",
       "1        Mid-level       213\n",
       "2      Entry Level        88\n",
       "3      Experienced        26"
      ]
     },
     "execution_count": 43,
     "metadata": {},
     "output_type": "execute_result"
    }
   ],
   "source": [
    "experience_distribuicao = df['Experience level']\n",
    "df_experience_counts = experience_distribuicao.value_counts().reset_index()\n",
    "df_experience_counts = df_experience_counts.rename(columns={'index': 'Nível de Experiência', 'count': 'Contagem'})\n",
    "df_experience_counts"
   ]
  },
  {
   "cell_type": "code",
   "execution_count": 44,
   "metadata": {},
   "outputs": [
    {
     "name": "stderr",
     "output_type": "stream",
     "text": [
      "C:\\Users\\cison\\AppData\\Local\\Temp\\ipykernel_13832\\93495753.py:3: FutureWarning: \n",
      "\n",
      "Passing `palette` without assigning `hue` is deprecated and will be removed in v0.14.0. Assign the `x` variable to `hue` and set `legend=False` for the same effect.\n",
      "\n",
      "  chart2 = sns.barplot(\n"
     ]
    },
    {
     "data": {
      "image/png": "[encoded data removed]",
      "text/plain": [
       "<Figure size 600x400 with 1 Axes>"
      ]
     },
     "metadata": {},
     "output_type": "display_data"
    }
   ],
   "source": [
    "plt.figure(figsize=(6,4))\n",
    "\n",
    "chart2 = sns.barplot(\n",
    "            x=list(df_experience_counts['Experience level']), \n",
    "            y=list(df_experience_counts['Contagem']), \n",
    "            palette='vlag')\n",
    "\n",
    "plt.title(' Distribuição dos Níveis de Experiência dos Funcionários',fontsize=16)\n",
    "plt.xlabel('Nível de Experiência', fontsize=14)\n",
    "plt.xticks(fontsize=14)\n",
    "plt.ylabel('Número de Funcionários', fontsize=14)\n",
    "plt.yticks(fontsize=12)\n",
    "plt.xticks(rotation=90)\n",
    "\n",
    "for index, value in enumerate(df_experience_counts['Contagem']):\n",
    "        chart2.text(index, value, str(value), ha='center', va='bottom', fontsize=12)"
   ]
  },
  {
   "cell_type": "code",
   "execution_count": null,
   "metadata": {},
   "outputs": [],
   "source": [
    "df.info()"
   ]
  },
  {
   "cell_type": "code",
   "execution_count": null,
   "metadata": {},
   "outputs": [],
   "source": [
    "print(df['experience_level'].value_counts())\n",
    "print(df['employment_type'].value_counts())\n",
    "print(df['employee_residence'].value_counts())\n",
    "# e assim por diante para outras colunas categóricas\n"
   ]
  },
  {
   "cell_type": "code",
   "execution_count": null,
   "metadata": {},
   "outputs": [],
   "source": [
    "import matplotlib.pyplot as plt\n",
    "\n",
    "plt.hist(df['salary_in_usd'], bins=20)\n",
    "plt.xlabel('Salário em USD')\n",
    "plt.ylabel('Frequência')\n",
    "plt.title('Distribuição de Salários')\n",
    "plt.show()\n"
   ]
  },
  {
   "cell_type": "code",
   "execution_count": null,
   "metadata": {},
   "outputs": [],
   "source": [
    "import seaborn as sns\n",
    "\n",
    "sns.scatterplot(x='work_year', y='salary_in_usd', data=df)\n",
    "plt.xlabel('Anos de Experiência')\n",
    "plt.ylabel('Salário em USD')\n",
    "plt.title('Relação entre Anos de Experiência e Salário')\n",
    "plt.show()\n",
    "\n",
    "# ou matriz de correlação\n",
    "correlation_matrix = df.corr()\n",
    "sns.heatmap(correlation_matrix, annot=True, cmap='coolwarm')\n",
    "plt.title('Matriz de Correlação')\n",
    "plt.show()\n"
   ]
  },
  {
   "cell_type": "code",
   "execution_count": null,
   "metadata": {},
   "outputs": [],
   "source": [
    "plt.figure(figsize=(8, 6))\n",
    "sns.countplot(x='company_size', data=df, order=df['company_size'].value_counts().index)\n",
    "plt.xlabel('Tamanho da Empresa')\n",
    "plt.ylabel('Contagem')\n",
    "plt.title('Distribuição de Tamanhos de Empresas')\n",
    "plt.xticks(rotation=45)\n",
    "plt.show()\n"
   ]
  },
  {
   "cell_type": "code",
   "execution_count": null,
   "metadata": {},
   "outputs": [],
   "source": [
    "plt.figure(figsize=(8, 6))\n",
    "sns.countplot(x='company_size', data=df, order=df['company_size'].value_counts().index)\n",
    "plt.xlabel('Tamanho da Empresa')\n",
    "plt.ylabel('Contagem')\n",
    "plt.title('Distribuição de Tamanhos de Empresas')\n",
    "plt.xticks(rotation=45)\n",
    "plt.show()\n"
   ]
  },
  {
   "cell_type": "code",
   "execution_count": null,
   "metadata": {},
   "outputs": [],
   "source": [
    "plt.figure(figsize=(8, 6))\n",
    "sns.boxplot(x='employment_type', y='salary_in_usd', data=df)\n",
    "plt.xlabel('Tipo de Emprego')\n",
    "plt.ylabel('Salário em USD')\n",
    "plt.title('Distribuição de Salários por Tipo de Emprego')\n",
    "plt.xticks(rotation=45)\n",
    "plt.show()\n"
   ]
  },
  {
   "cell_type": "code",
   "execution_count": null,
   "metadata": {},
   "outputs": [],
   "source": [
    "remote_ratio_counts = df['remote_ratio'].value_counts()\n",
    "plt.figure(figsize=(8, 6))\n",
    "remote_ratio_counts.plot(kind='bar')\n",
    "plt.xlabel('Proporção de Trabalho Remoto')\n",
    "plt.ylabel('Contagem')\n",
    "plt.title('Proporção de Trabalho Remoto vs. Trabalho no Local')\n",
    "plt.xticks(rotation=45)\n",
    "plt.show()\n",
    "\n"
   ]
  },
  {
   "cell_type": "code",
   "execution_count": 104,
   "metadata": {},
   "outputs": [],
   "source": [
    "def formatar_numero(valor):\n",
    "    if valor >= 1000000:\n",
    "        return '{:.0f}M'.format(valor / 1000000)\n",
    "    elif valor >= 1000:\n",
    "        return '{:.0f}K'.format(valor / 1000)\n",
    "    else:\n",
    "        return '{:,.0f}'.format(valor)"
   ]
  },
  {
   "cell_type": "code",
   "execution_count": 111,
   "metadata": {},
   "outputs": [
    {
     "data": {
      "text/html": [
       "<div>\n",
       "<style scoped>\n",
       "    .dataframe tbody tr th:only-of-type {\n",
       "        vertical-align: middle;\n",
       "    }\n",
       "\n",
       "    .dataframe tbody tr th {\n",
       "        vertical-align: top;\n",
       "    }\n",
       "\n",
       "    .dataframe thead th {\n",
       "        text-align: right;\n",
       "    }\n",
       "</style>\n",
       "<table border=\"1\" class=\"dataframe\">\n",
       "  <thead>\n",
       "    <tr style=\"text-align: right;\">\n",
       "      <th></th>\n",
       "      <th>Experience level</th>\n",
       "      <th>Entry Level</th>\n",
       "      <th>Experienced</th>\n",
       "      <th>Mid-level</th>\n",
       "      <th>Senior</th>\n",
       "    </tr>\n",
       "    <tr>\n",
       "      <th>Job title</th>\n",
       "      <th>Remote ratio</th>\n",
       "      <th></th>\n",
       "      <th></th>\n",
       "      <th></th>\n",
       "      <th></th>\n",
       "    </tr>\n",
       "  </thead>\n",
       "  <tbody>\n",
       "    <tr>\n",
       "      <th rowspan=\"2\" valign=\"top\">AI Scientist</th>\n",
       "      <th>Presencial</th>\n",
       "      <td>0</td>\n",
       "      <td>0</td>\n",
       "      <td>120K</td>\n",
       "      <td>0</td>\n",
       "    </tr>\n",
       "    <tr>\n",
       "      <th>Remoto</th>\n",
       "      <td>14K</td>\n",
       "      <td>0</td>\n",
       "      <td>200K</td>\n",
       "      <td>55K</td>\n",
       "    </tr>\n",
       "    <tr>\n",
       "      <th rowspan=\"2\" valign=\"top\">Analytics Engineer</th>\n",
       "      <th>Presencial</th>\n",
       "      <td>0</td>\n",
       "      <td>0</td>\n",
       "      <td>0</td>\n",
       "      <td>195K</td>\n",
       "    </tr>\n",
       "    <tr>\n",
       "      <th>Remoto</th>\n",
       "      <td>0</td>\n",
       "      <td>155K</td>\n",
       "      <td>0</td>\n",
       "      <td>0</td>\n",
       "    </tr>\n",
       "    <tr>\n",
       "      <th>Applied Data Scientist</th>\n",
       "      <th>Presencial</th>\n",
       "      <td>110K</td>\n",
       "      <td>0</td>\n",
       "      <td>0</td>\n",
       "      <td>0</td>\n",
       "    </tr>\n",
       "    <tr>\n",
       "      <th>...</th>\n",
       "      <th>...</th>\n",
       "      <td>...</td>\n",
       "      <td>...</td>\n",
       "      <td>...</td>\n",
       "      <td>...</td>\n",
       "    </tr>\n",
       "    <tr>\n",
       "      <th rowspan=\"2\" valign=\"top\">Product Data Analyst</th>\n",
       "      <th>Presencial</th>\n",
       "      <td>0</td>\n",
       "      <td>0</td>\n",
       "      <td>20K</td>\n",
       "      <td>0</td>\n",
       "    </tr>\n",
       "    <tr>\n",
       "      <th>Remoto</th>\n",
       "      <td>0</td>\n",
       "      <td>0</td>\n",
       "      <td>6K</td>\n",
       "      <td>0</td>\n",
       "    </tr>\n",
       "    <tr>\n",
       "      <th rowspan=\"2\" valign=\"top\">Research Scientist</th>\n",
       "      <th>Presencial</th>\n",
       "      <td>100K</td>\n",
       "      <td>0</td>\n",
       "      <td>257K</td>\n",
       "      <td>0</td>\n",
       "    </tr>\n",
       "    <tr>\n",
       "      <th>Remoto</th>\n",
       "      <td>120K</td>\n",
       "      <td>0</td>\n",
       "      <td>126K</td>\n",
       "      <td>50K</td>\n",
       "    </tr>\n",
       "    <tr>\n",
       "      <th>Staff Data Scientist</th>\n",
       "      <th>Remoto</th>\n",
       "      <td>0</td>\n",
       "      <td>0</td>\n",
       "      <td>0</td>\n",
       "      <td>105K</td>\n",
       "    </tr>\n",
       "  </tbody>\n",
       "</table>\n",
       "<p>68 rows × 4 columns</p>\n",
       "</div>"
      ],
      "text/plain": [
       "Experience level                    Entry Level Experienced Mid-level Senior\n",
       "Job title              Remote ratio                                         \n",
       "AI Scientist           Presencial             0           0      120K      0\n",
       "                       Remoto               14K           0      200K    55K\n",
       "Analytics Engineer     Presencial             0           0         0   195K\n",
       "                       Remoto                 0        155K         0      0\n",
       "Applied Data Scientist Presencial          110K           0         0      0\n",
       "...                                         ...         ...       ...    ...\n",
       "Product Data Analyst   Presencial             0           0       20K      0\n",
       "                       Remoto                 0           0        6K      0\n",
       "Research Scientist     Presencial          100K           0      257K      0\n",
       "                       Remoto              120K           0      126K    50K\n",
       "Staff Data Scientist   Remoto                 0           0         0   105K\n",
       "\n",
       "[68 rows x 4 columns]"
      ]
     },
     "execution_count": 111,
     "metadata": {},
     "output_type": "execute_result"
    }
   ],
   "source": [
    "\n",
    "df_filtered = df.loc[(df['Remote ratio'].isin([0,100])), ['Job title', 'Salary usd', 'Experience level', 'Remote ratio']]\n",
    "\n",
    "mapping = {100: 'Remoto', 0: 'Presencial'}\n",
    "df_filtered['Remote ratio'] = df_filtered['Remote ratio'].map(mapping)\n",
    "    \n",
    "pivot = df_filtered.pivot_table(\n",
    "    values='Salary usd',\n",
    "    index=['Job title', 'Remote ratio' ],\n",
    "    columns=['Experience level'],\n",
    "    aggfunc='mean',\n",
    "    fill_value=0\n",
    ")\n",
    "\n",
    "pivot.map(formatar_numero)"
   ]
  },
  {
   "cell_type": "code",
   "execution_count": 62,
   "metadata": {},
   "outputs": [
    {
     "data": {
      "text/html": [
       "<div>\n",
       "<style scoped>\n",
       "    .dataframe tbody tr th:only-of-type {\n",
       "        vertical-align: middle;\n",
       "    }\n",
       "\n",
       "    .dataframe tbody tr th {\n",
       "        vertical-align: top;\n",
       "    }\n",
       "\n",
       "    .dataframe thead th {\n",
       "        text-align: right;\n",
       "    }\n",
       "</style>\n",
       "<table border=\"1\" class=\"dataframe\">\n",
       "  <thead>\n",
       "    <tr style=\"text-align: right;\">\n",
       "      <th></th>\n",
       "      <th>Job title</th>\n",
       "      <th>Experience level</th>\n",
       "    </tr>\n",
       "  </thead>\n",
       "  <tbody>\n",
       "    <tr>\n",
       "      <th>0</th>\n",
       "      <td>Data Scientist</td>\n",
       "      <td>Mid-level</td>\n",
       "    </tr>\n",
       "    <tr>\n",
       "      <th>1</th>\n",
       "      <td>Machine Learning Scientist</td>\n",
       "      <td>Senior</td>\n",
       "    </tr>\n",
       "    <tr>\n",
       "      <th>2</th>\n",
       "      <td>Big Data Engineer</td>\n",
       "      <td>Senior</td>\n",
       "    </tr>\n",
       "    <tr>\n",
       "      <th>3</th>\n",
       "      <td>Product Data Analyst</td>\n",
       "      <td>Mid-level</td>\n",
       "    </tr>\n",
       "    <tr>\n",
       "      <th>4</th>\n",
       "      <td>Machine Learning Engineer</td>\n",
       "      <td>Senior</td>\n",
       "    </tr>\n",
       "    <tr>\n",
       "      <th>...</th>\n",
       "      <td>...</td>\n",
       "      <td>...</td>\n",
       "    </tr>\n",
       "    <tr>\n",
       "      <th>602</th>\n",
       "      <td>Data Engineer</td>\n",
       "      <td>Senior</td>\n",
       "    </tr>\n",
       "    <tr>\n",
       "      <th>603</th>\n",
       "      <td>Data Engineer</td>\n",
       "      <td>Senior</td>\n",
       "    </tr>\n",
       "    <tr>\n",
       "      <th>604</th>\n",
       "      <td>Data Analyst</td>\n",
       "      <td>Senior</td>\n",
       "    </tr>\n",
       "    <tr>\n",
       "      <th>605</th>\n",
       "      <td>Data Analyst</td>\n",
       "      <td>Senior</td>\n",
       "    </tr>\n",
       "    <tr>\n",
       "      <th>606</th>\n",
       "      <td>AI Scientist</td>\n",
       "      <td>Mid-level</td>\n",
       "    </tr>\n",
       "  </tbody>\n",
       "</table>\n",
       "<p>607 rows × 2 columns</p>\n",
       "</div>"
      ],
      "text/plain": [
       "                      Job title Experience level\n",
       "0                Data Scientist        Mid-level\n",
       "1    Machine Learning Scientist           Senior\n",
       "2             Big Data Engineer           Senior\n",
       "3          Product Data Analyst        Mid-level\n",
       "4     Machine Learning Engineer           Senior\n",
       "..                          ...              ...\n",
       "602               Data Engineer           Senior\n",
       "603               Data Engineer           Senior\n",
       "604                Data Analyst           Senior\n",
       "605                Data Analyst           Senior\n",
       "606                AI Scientist        Mid-level\n",
       "\n",
       "[607 rows x 2 columns]"
      ]
     },
     "execution_count": 62,
     "metadata": {},
     "output_type": "execute_result"
    }
   ],
   "source": []
  }
 ],
 "metadata": {
  "kernelspec": {
   "display_name": "venv",
   "language": "python",
   "name": "python3"
  },
  "language_info": {
   "codemirror_mode": {
    "name": "ipython",
    "version": 3
   },
   "file_extension": ".py",
   "mimetype": "text/x-python",
   "name": "python",
   "nbconvert_exporter": "python",
   "pygments_lexer": "ipython3",
   "version": "3.12.0"
  }
 },
 "nbformat": 4,
 "nbformat_minor": 2
}
